{
 "cells": [
  {
   "cell_type": "markdown",
   "metadata": {},
   "source": [
    "## Getting requirements"
   ]
  },
  {
   "cell_type": "code",
   "execution_count": null,
   "metadata": {},
   "outputs": [],
   "source": [
    "import numpy as np \n",
    "import pandas as pd \n",
    "import matplotlib.pyplot as plt\n",
    "import cv2\n",
    "import tensorflow as tf\n",
    "from PIL import Image\n",
    "import os\n",
    "from sklearn.model_selection import train_test_split\n",
    "from tensorflow.keras.utils import to_categorical\n",
    "from tensorflow.keras.models import Sequential,load_model\n",
    "from tensorflow.keras.layers import Conv2D\n",
    "from tensorflow.keras.layers import MaxPool2D\n",
    "from tensorflow.keras.layers import Flatten\n",
    "from tensorflow.keras.layers import Dense\n",
    "from tensorflow.keras.layers import Dropout\n",
    "data = []\n",
    "labels = []\n",
    "classes = 43\n",
    "cur_path = os.getcwd()\n",
    "\n",
    "#Retrieving the images and their labels \n",
    "for i in range(classes):\n",
    "    path = os.path.join(cur_path,'train',str(i))\n",
    "    images = os.listdir(path)\n",
    "\n",
    "    for a in images:\n",
    "        try:\n",
    "            image = Image.open(path + '/'+ a)\n",
    "            image = image.resize((30,30))\n",
    "            image = np.array(image)\n",
    "            #sim = Image.fromarray(image)\n",
    "            data.append(image)\n",
    "            labels.append(i)\n",
    "        except:\n",
    "            print(\"Error loading image\")\n",
    "            \n",
    "#Converting lists into numpy arrays\n",
    "data = np.array(data)\n",
    "labels = np.array(labels)\n",
    "print(data.shape, labels.shape)"
   ]
  },
  {
   "cell_type": "markdown",
   "metadata": {},
   "source": [
    "## exploring dataset"
   ]
  },
  {
   "cell_type": "code",
   "execution_count": 11,
   "metadata": {},
   "outputs": [
    {
     "name": "stdout",
     "output_type": "stream",
     "text": [
      "(31367, 30, 30, 3) (7842, 30, 30, 3)\n",
      "(31367,) (7842,)\n"
     ]
    }
   ],
   "source": [
    "X_train , X_test ,Y_train , Y_test = train_test_split(data , labels , test_size = 0.2 , random_state = 42)\n",
    "print(X_train.shape,X_test.shape)\n",
    "print(Y_train.shape,Y_test.shape)"
   ]
  },
  {
   "cell_type": "markdown",
   "metadata": {},
   "source": [
    "# Building the Model"
   ]
  },
  {
   "cell_type": "markdown",
   "metadata": {},
   "source": [
    "## The architecture of our model is:\n",
    "\n",
    "    2 Conv2D layer (filter=32, kernel_size=(5,5), activation=”relu”)\n",
    "    MaxPool2D layer ( pool_size=(2,2))\n",
    "    Dropout layer (rate=0.25)\n",
    "    2 Conv2D layer (filter=64, kernel_size=(3,3), activation=”relu”)\n",
    "    MaxPool2D layer ( pool_size=(2,2))\n",
    "    Dropout layer (rate=0.25)\n",
    "    Flatten layer to squeeze the layers into 1 dimension\n",
    "    Dense Fully connected layer (256 nodes, activation=”relu”)\n",
    "    Dropout layer (rate=0.5)\n",
    "    Dense layer (43 nodes, activation=”softmax”)"
   ]
  },
  {
   "cell_type": "code",
   "execution_count": 15,
   "metadata": {},
   "outputs": [],
   "source": [
    "#Building the model\n",
    "model = Sequential()\n",
    "model.add(Conv2D(filters=32, kernel_size=(5,5), activation='relu', input_shape=X_train.shape[1:]))\n",
    "model.add(Conv2D(filters=32, kernel_size=(5,5), activation='relu'))\n",
    "model.add(MaxPool2D(pool_size=(2, 2)))\n",
    "model.add(Dropout(rate=0.25))\n",
    "model.add(Conv2D(filters=64, kernel_size=(3, 3), activation='relu'))\n",
    "model.add(Conv2D(filters=64, kernel_size=(3, 3), activation='relu'))\n",
    "model.add(MaxPool2D(pool_size=(2, 2)))\n",
    "model.add(Dropout(rate=0.25))\n",
    "model.add(Flatten())\n",
    "model.add(Dense(256, activation='relu'))\n",
    "model.add(Dropout(rate=0.5))\n",
    "model.add(Dense(43, activation='softmax'))\n",
    "\n",
    "#Compilation of the model\n",
    "model.compile(loss='sparse_categorical_crossentropy', optimizer='adam', metrics=['accuracy'])\n"
   ]
  },
  {
   "cell_type": "code",
   "execution_count": 16,
   "metadata": {},
   "outputs": [
    {
     "name": "stdout",
     "output_type": "stream",
     "text": [
      "Train on 31367 samples, validate on 7842 samples\n",
      "Epoch 1/15\n",
      "31367/31367 [==============================] - 62s 2ms/sample - loss: 2.3024 - accuracy: 0.3954 - val_loss: 0.7279 - val_accuracy: 0.8115\n",
      "Epoch 2/15\n",
      "31367/31367 [==============================] - 57s 2ms/sample - loss: 0.8533 - accuracy: 0.7475 - val_loss: 0.3801 - val_accuracy: 0.8907\n",
      "Epoch 3/15\n",
      "31367/31367 [==============================] - 57s 2ms/sample - loss: 0.5580 - accuracy: 0.8350 - val_loss: 0.2692 - val_accuracy: 0.9280\n",
      "Epoch 4/15\n",
      "31367/31367 [==============================] - 58s 2ms/sample - loss: 0.4400 - accuracy: 0.8692 - val_loss: 0.1662 - val_accuracy: 0.9528\n",
      "Epoch 5/15\n",
      "31367/31367 [==============================] - 57s 2ms/sample - loss: 0.3797 - accuracy: 0.8879 - val_loss: 0.1504 - val_accuracy: 0.9593\n",
      "Epoch 6/15\n",
      "31367/31367 [==============================] - 58s 2ms/sample - loss: 0.3379 - accuracy: 0.9011 - val_loss: 0.1111 - val_accuracy: 0.9676\n",
      "Epoch 7/15\n",
      "31367/31367 [==============================] - 58s 2ms/sample - loss: 0.3309 - accuracy: 0.9046 - val_loss: 0.1172 - val_accuracy: 0.9670\n",
      "Epoch 8/15\n",
      "31367/31367 [==============================] - 58s 2ms/sample - loss: 0.3055 - accuracy: 0.9119 - val_loss: 0.1107 - val_accuracy: 0.9681\n",
      "Epoch 9/15\n",
      "31367/31367 [==============================] - 58s 2ms/sample - loss: 0.3148 - accuracy: 0.9111 - val_loss: 0.1255 - val_accuracy: 0.9638\n",
      "Epoch 10/15\n",
      "31367/31367 [==============================] - 58s 2ms/sample - loss: 0.3295 - accuracy: 0.9097 - val_loss: 0.1189 - val_accuracy: 0.9660\n",
      "Epoch 11/15\n",
      "31367/31367 [==============================] - 58s 2ms/sample - loss: 0.2999 - accuracy: 0.9164 - val_loss: 0.0997 - val_accuracy: 0.9708\n",
      "Epoch 12/15\n",
      "31367/31367 [==============================] - 61s 2ms/sample - loss: 0.2747 - accuracy: 0.9242 - val_loss: 0.0949 - val_accuracy: 0.9725\n",
      "Epoch 13/15\n",
      "31367/31367 [==============================] - 63s 2ms/sample - loss: 0.2643 - accuracy: 0.9256 - val_loss: 0.1140 - val_accuracy: 0.9688\n",
      "Epoch 14/15\n",
      "31367/31367 [==============================] - 65s 2ms/sample - loss: 0.2883 - accuracy: 0.9214 - val_loss: 0.1031 - val_accuracy: 0.9697\n",
      "Epoch 15/15\n",
      "31367/31367 [==============================] - 66s 2ms/sample - loss: 0.2842 - accuracy: 0.9238 - val_loss: 0.0946 - val_accuracy: 0.9741\n"
     ]
    }
   ],
   "source": [
    "epochs = 15\n",
    "history = model.fit(X_train , Y_train , batch_size=32 , epochs = epochs , validation_data =(X_test , Y_test))"
   ]
  },
  {
   "cell_type": "code",
   "execution_count": 20,
   "metadata": {},
   "outputs": [],
   "source": [
    "model.save(\"my_model.h5\")"
   ]
  },
  {
   "cell_type": "code",
   "execution_count": 18,
   "metadata": {},
   "outputs": [
    {
     "data": {
      "image/png": "[encoded data removed]",
      "text/plain": [
       "<Figure size 432x288 with 1 Axes>"
      ]
     },
     "metadata": {
      "needs_background": "light"
     },
     "output_type": "display_data"
    }
   ],
   "source": [
    "plt.figure(0)\n",
    "plt.plot(history.history['accuracy'] , label = 'training_accuracy')\n",
    "plt.plot(history.history['val_accuracy'] , label = 'validation_accuracy')\n",
    "plt.title('Accuracy')\n",
    "plt.xlabel('epochs')\n",
    "plt.ylabel('accuracy')\n",
    "plt.legend()\n",
    "plt.show()"
   ]
  },
  {
   "cell_type": "code",
   "execution_count": 19,
   "metadata": {},
   "outputs": [
    {
     "data": {
      "image/png": "[encoded data removed]",
      "text/plain": [
       "<Figure size 432x288 with 1 Axes>"
      ]
     },
     "metadata": {
      "needs_background": "light"
     },
     "output_type": "display_data"
    }
   ],
   "source": [
    "plt.figure(1)\n",
    "plt.plot(history.history['loss'] , label = 'training_loss')\n",
    "plt.plot(history.history['val_loss'] , label = 'validation_loss')\n",
    "plt.title('Loss')\n",
    "plt.xlabel('epochs')\n",
    "plt.ylabel('loss')\n",
    "plt.legend()\n",
    "plt.show()"
   ]
  },
  {
   "cell_type": "code",
   "execution_count": 33,
   "metadata": {},
   "outputs": [
    {
     "name": "stdout",
     "output_type": "stream",
     "text": [
      "0.9447347585114806\n"
     ]
    }
   ],
   "source": [
    "from sklearn.metrics import accuracy_score\n",
    "\n",
    "y_test = pd.read_csv('Test.csv')\n",
    "\n",
    "labels = y_test[\"ClassId\"].values\n",
    "imgs = y_test[\"Path\"].values\n",
    "\n",
    "data=[]\n",
    "\n",
    "for img in imgs:\n",
    "    image = Image.open(img)\n",
    "    image = image.resize((30,30))\n",
    "    data.append(np.array(image))\n",
    "\n",
    "X_test=np.array(data ,dtype = float)\n",
    "\n",
    "\n",
    "pred = model.predict_classes(X_test)\n",
    "\n",
    "#Accuracy with the test data\n",
    "from sklearn.metrics import accuracy_score\n",
    "print(accuracy_score(labels, pred))\n",
    "\n",
    "model.save(\"traffic_classifier.h5\")"
   ]
  },
  {
   "cell_type": "code",
   "execution_count": null,
   "metadata": {},
   "outputs": [],
   "source": []
  }
 ],
 "metadata": {
  "kernelspec": {
   "display_name": "Python 3",
   "language": "python",
   "name": "python3"
  },
  "language_info": {
   "codemirror_mode": {
    "name": "ipython",
    "version": 3
   },
   "file_extension": ".py",
   "mimetype": "text/x-python",
   "name": "python",
   "nbconvert_exporter": "python",
   "pygments_lexer": "ipython3",
   "version": "3.7.3"
  }
 },
 "nbformat": 4,
 "nbformat_minor": 2
}
